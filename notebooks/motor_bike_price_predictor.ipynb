{
 "cells": [
  {
   "cell_type": "code",
   "execution_count": 1,
   "id": "aaab69c2",
   "metadata": {},
   "outputs": [],
   "source": [
    "import warnings\n",
    "warnings.filterwarnings(\"ignore\")\n",
    "\n",
    "import numpy as np\n",
    "import pandas as pd\n",
    "import matplotlib.pyplot as plt\n",
    "import seaborn as sns\n",
    "import joblib\n",
    "import shap\n",
    "from pathlib import Path\n",
    "\n",
    "from sklearn.model_selection import train_test_split, cross_val_score, RandomizedSearchCV, KFold\n",
    "from sklearn.pipeline import Pipeline\n",
    "from sklearn.compose import ColumnTransformer\n",
    "from sklearn.preprocessing import StandardScaler, OneHotEncoder, OrdinalEncoder\n",
    "from sklearn.impute import SimpleImputer\n",
    "from sklearn.ensemble import RandomForestRegressor\n",
    "from sklearn.linear_model import Ridge\n",
    "from sklearn.tree import DecisionTreeRegressor\n",
    "from sklearn.metrics import mean_squared_error, mean_absolute_error, r2_score\n",
    "from xgboost import XGBRegressor\n",
    "from catboost import CatBoostRegressor\n",
    "import scipy.stats as stats"
   ]
  },
  {
   "cell_type": "code",
   "execution_count": 4,
   "id": "8c2a888f",
   "metadata": {},
   "outputs": [
    {
     "name": "stdout",
     "output_type": "stream",
     "text": [
      "Shape: (5016, 13)\n"
     ]
    },
    {
     "data": {
      "text/html": [
       "<div>\n",
       "<style scoped>\n",
       "    .dataframe tbody tr th:only-of-type {\n",
       "        vertical-align: middle;\n",
       "    }\n",
       "\n",
       "    .dataframe tbody tr th {\n",
       "        vertical-align: top;\n",
       "    }\n",
       "\n",
       "    .dataframe thead th {\n",
       "        text-align: right;\n",
       "    }\n",
       "</style>\n",
       "<table border=\"1\" class=\"dataframe\">\n",
       "  <thead>\n",
       "    <tr style=\"text-align: right;\">\n",
       "      <th></th>\n",
       "      <th>Summary</th>\n",
       "      <th>url</th>\n",
       "      <th>Title</th>\n",
       "      <th>Post_Details</th>\n",
       "      <th>Bike Type</th>\n",
       "      <th>Brand</th>\n",
       "      <th>Trim/Edition</th>\n",
       "      <th>Model</th>\n",
       "      <th>Year</th>\n",
       "      <th>Mileage</th>\n",
       "      <th>Seller</th>\n",
       "      <th>Capacity</th>\n",
       "      <th>Price</th>\n",
       "    </tr>\n",
       "  </thead>\n",
       "  <tbody>\n",
       "    <tr>\n",
       "      <th>0</th>\n",
       "      <td>Atv beach bike 201435,000 kmKegalle, Motorbike...</td>\n",
       "      <td>https://ikman.lk/en/ad/atv-beach-bike-2014-for...</td>\n",
       "      <td>Atv beach bike 2014</td>\n",
       "      <td>Posted on 30 Jan 9:02 am, Kegalle City, Kegalle</td>\n",
       "      <td>Quadricycles</td>\n",
       "      <td>Other brand</td>\n",
       "      <td>Atv beach bike</td>\n",
       "      <td>Other model</td>\n",
       "      <td>2014</td>\n",
       "      <td>35,000 km</td>\n",
       "      <td>lakee</td>\n",
       "      <td>150 cc</td>\n",
       "      <td>440,000</td>\n",
       "    </tr>\n",
       "    <tr>\n",
       "      <th>1</th>\n",
       "      <td>Bajaj Pulsar 150 palsar 201450,737 kmAnuradhap...</td>\n",
       "      <td>https://ikman.lk/en/ad/bajaj-pulsar-150-palsar...</td>\n",
       "      <td>Bajaj Pulsar 150 palsar 2014</td>\n",
       "      <td>Posted on 11 Mar 1:58 pm, Kekirawa, Anuradhapura</td>\n",
       "      <td>Motorbikes</td>\n",
       "      <td>Bajaj</td>\n",
       "      <td>palsar 150</td>\n",
       "      <td>Pulsar 150</td>\n",
       "      <td>2014</td>\n",
       "      <td>50,737 km</td>\n",
       "      <td>Sasila Ishan</td>\n",
       "      <td>150 cc</td>\n",
       "      <td>370,000</td>\n",
       "    </tr>\n",
       "    <tr>\n",
       "      <th>2</th>\n",
       "      <td>Beach Buggy 20055,000 kmColombo, MotorbikesRs ...</td>\n",
       "      <td>https://ikman.lk/en/ad/beach-buggy-2005-for-sa...</td>\n",
       "      <td>Beach Buggy 2005</td>\n",
       "      <td>Posted on 21 Jan 9:45 pm, Talawatugoda, Colombo</td>\n",
       "      <td>Quadricycles</td>\n",
       "      <td>Other brand</td>\n",
       "      <td>Beach Buggy</td>\n",
       "      <td>Other model</td>\n",
       "      <td>2005</td>\n",
       "      <td>5,000 km</td>\n",
       "      <td>vinuka automart</td>\n",
       "      <td>125 cc</td>\n",
       "      <td>210,000</td>\n",
       "    </tr>\n",
       "    <tr>\n",
       "      <th>3</th>\n",
       "      <td>Electra Alpha Vino 2019600 kmColombo, Motorbik...</td>\n",
       "      <td>https://ikman.lk/en/ad/electra-alfa-vino-2019-...</td>\n",
       "      <td>Electra Alpha Vino 2019</td>\n",
       "      <td>Posted on 22 Feb 2:26 pm, Moratuwa, Colombo</td>\n",
       "      <td>E-bikes</td>\n",
       "      <td>Electra</td>\n",
       "      <td>Vino</td>\n",
       "      <td>Alpha</td>\n",
       "      <td>2019</td>\n",
       "      <td>600 km</td>\n",
       "      <td>Jeewantha Basnayaka</td>\n",
       "      <td>49 cc</td>\n",
       "      <td>105,000</td>\n",
       "    </tr>\n",
       "    <tr>\n",
       "      <th>4</th>\n",
       "      <td>Hero Maestro Edge 201818,500 kmMEMBERKalutara,...</td>\n",
       "      <td>https://ikman.lk/en/ad/hero-maestro-edge-2018-...</td>\n",
       "      <td>Hero Maestro Edge 2018</td>\n",
       "      <td>Posted on 07 Mar 2:08 pm, Bandaragama, Kalutara</td>\n",
       "      <td>Scooters</td>\n",
       "      <td>Hero</td>\n",
       "      <td>2018</td>\n",
       "      <td>Maestro Edge</td>\n",
       "      <td>2018</td>\n",
       "      <td>18,500 km</td>\n",
       "      <td>Anjalee Motors</td>\n",
       "      <td>110 cc</td>\n",
       "      <td>80,000</td>\n",
       "    </tr>\n",
       "    <tr>\n",
       "      <th>5</th>\n",
       "      <td>Honda CBR 650R 202012,700 kmGalle, MotorbikesR...</td>\n",
       "      <td>https://ikman.lk/en/ad/honda-cbr-650r-2020-for...</td>\n",
       "      <td>Honda CBR 650R 2020</td>\n",
       "      <td>Posted on 10 Feb 10:00 am, Galle City, Galle</td>\n",
       "      <td>Motorbikes</td>\n",
       "      <td>Honda</td>\n",
       "      <td>650R</td>\n",
       "      <td>CBR</td>\n",
       "      <td>2020</td>\n",
       "      <td>12,700 km</td>\n",
       "      <td>Anne Filishiya Ross thuring</td>\n",
       "      <td>650 cc</td>\n",
       "      <td>889,000</td>\n",
       "    </tr>\n",
       "    <tr>\n",
       "      <th>6</th>\n",
       "      <td>Honda CBR 650R 202015,000 kmColombo, Motorbike...</td>\n",
       "      <td>https://ikman.lk/en/ad/honda-cbr-cbr650r-2020-...</td>\n",
       "      <td>Honda CBR 650R 2020</td>\n",
       "      <td>Posted on 18 Jan 12:56 pm, Maharagama, Colombo</td>\n",
       "      <td>Motorbikes</td>\n",
       "      <td>Honda</td>\n",
       "      <td>CBR 650R</td>\n",
       "      <td>CBR</td>\n",
       "      <td>2020</td>\n",
       "      <td>15,000 km</td>\n",
       "      <td>Dream Bikes</td>\n",
       "      <td>650 cc</td>\n",
       "      <td>2,500,000</td>\n",
       "    </tr>\n",
       "    <tr>\n",
       "      <th>7</th>\n",
       "      <td>Honda CRF 250R 200810,000 kmGampaha, Motorbike...</td>\n",
       "      <td>https://ikman.lk/en/ad/honda-crf-250r-2008-for...</td>\n",
       "      <td>Honda CRF 250R 2008</td>\n",
       "      <td>Posted on 30 Jan 4:29 pm, Ja-Ela, Gampaha</td>\n",
       "      <td>Motorbikes</td>\n",
       "      <td>Honda</td>\n",
       "      <td>CRF 250R</td>\n",
       "      <td>CRF</td>\n",
       "      <td>2008</td>\n",
       "      <td>10,000 km</td>\n",
       "      <td>shehan</td>\n",
       "      <td>250 cc</td>\n",
       "      <td>1,400,000</td>\n",
       "    </tr>\n",
       "    <tr>\n",
       "      <th>8</th>\n",
       "      <td>Honda Dio 201025,000 kmKurunegala, MotorbikesR...</td>\n",
       "      <td>https://ikman.lk/en/ad/honda-dio-2010-for-sale...</td>\n",
       "      <td>Honda Dio 2010</td>\n",
       "      <td>Posted on 18 Feb 12:07 pm, Kurunegala City, Ku...</td>\n",
       "      <td>Scooters</td>\n",
       "      <td>Honda</td>\n",
       "      <td>NaN</td>\n",
       "      <td>Dio</td>\n",
       "      <td>2010</td>\n",
       "      <td>25,000 km</td>\n",
       "      <td>Julatha Bandara</td>\n",
       "      <td>48 cc</td>\n",
       "      <td>125,000</td>\n",
       "    </tr>\n",
       "    <tr>\n",
       "      <th>9</th>\n",
       "      <td>Honda Hornet CH 125 200217,200 kmKegalle, Moto...</td>\n",
       "      <td>https://ikman.lk/en/ad/honda-hornet-ch-125-unr...</td>\n",
       "      <td>Honda Hornet CH 125 2002</td>\n",
       "      <td>Posted on 26 Jan 2:32 pm, Kegalle City, Kegalle</td>\n",
       "      <td>Motorbikes</td>\n",
       "      <td>Honda</td>\n",
       "      <td>CH 125</td>\n",
       "      <td>Hornet</td>\n",
       "      <td>2002</td>\n",
       "      <td>17,200 km</td>\n",
       "      <td>Shehan</td>\n",
       "      <td>250 cc</td>\n",
       "      <td>780,000</td>\n",
       "    </tr>\n",
       "  </tbody>\n",
       "</table>\n",
       "</div>"
      ],
      "text/plain": [
       "                                             Summary  \\\n",
       "0  Atv beach bike 201435,000 kmKegalle, Motorbike...   \n",
       "1  Bajaj Pulsar 150 palsar 201450,737 kmAnuradhap...   \n",
       "2  Beach Buggy 20055,000 kmColombo, MotorbikesRs ...   \n",
       "3  Electra Alpha Vino 2019600 kmColombo, Motorbik...   \n",
       "4  Hero Maestro Edge 201818,500 kmMEMBERKalutara,...   \n",
       "5  Honda CBR 650R 202012,700 kmGalle, MotorbikesR...   \n",
       "6  Honda CBR 650R 202015,000 kmColombo, Motorbike...   \n",
       "7  Honda CRF 250R 200810,000 kmGampaha, Motorbike...   \n",
       "8  Honda Dio 201025,000 kmKurunegala, MotorbikesR...   \n",
       "9  Honda Hornet CH 125 200217,200 kmKegalle, Moto...   \n",
       "\n",
       "                                                 url  \\\n",
       "0  https://ikman.lk/en/ad/atv-beach-bike-2014-for...   \n",
       "1  https://ikman.lk/en/ad/bajaj-pulsar-150-palsar...   \n",
       "2  https://ikman.lk/en/ad/beach-buggy-2005-for-sa...   \n",
       "3  https://ikman.lk/en/ad/electra-alfa-vino-2019-...   \n",
       "4  https://ikman.lk/en/ad/hero-maestro-edge-2018-...   \n",
       "5  https://ikman.lk/en/ad/honda-cbr-650r-2020-for...   \n",
       "6  https://ikman.lk/en/ad/honda-cbr-cbr650r-2020-...   \n",
       "7  https://ikman.lk/en/ad/honda-crf-250r-2008-for...   \n",
       "8  https://ikman.lk/en/ad/honda-dio-2010-for-sale...   \n",
       "9  https://ikman.lk/en/ad/honda-hornet-ch-125-unr...   \n",
       "\n",
       "                          Title  \\\n",
       "0           Atv beach bike 2014   \n",
       "1  Bajaj Pulsar 150 palsar 2014   \n",
       "2              Beach Buggy 2005   \n",
       "3       Electra Alpha Vino 2019   \n",
       "4        Hero Maestro Edge 2018   \n",
       "5           Honda CBR 650R 2020   \n",
       "6           Honda CBR 650R 2020   \n",
       "7           Honda CRF 250R 2008   \n",
       "8                Honda Dio 2010   \n",
       "9      Honda Hornet CH 125 2002   \n",
       "\n",
       "                                        Post_Details     Bike Type  \\\n",
       "0    Posted on 30 Jan 9:02 am, Kegalle City, Kegalle  Quadricycles   \n",
       "1   Posted on 11 Mar 1:58 pm, Kekirawa, Anuradhapura    Motorbikes   \n",
       "2    Posted on 21 Jan 9:45 pm, Talawatugoda, Colombo  Quadricycles   \n",
       "3        Posted on 22 Feb 2:26 pm, Moratuwa, Colombo       E-bikes   \n",
       "4    Posted on 07 Mar 2:08 pm, Bandaragama, Kalutara      Scooters   \n",
       "5       Posted on 10 Feb 10:00 am, Galle City, Galle    Motorbikes   \n",
       "6     Posted on 18 Jan 12:56 pm, Maharagama, Colombo    Motorbikes   \n",
       "7          Posted on 30 Jan 4:29 pm, Ja-Ela, Gampaha    Motorbikes   \n",
       "8  Posted on 18 Feb 12:07 pm, Kurunegala City, Ku...      Scooters   \n",
       "9    Posted on 26 Jan 2:32 pm, Kegalle City, Kegalle    Motorbikes   \n",
       "\n",
       "         Brand    Trim/Edition         Model  Year    Mileage  \\\n",
       "0  Other brand  Atv beach bike   Other model  2014  35,000 km   \n",
       "1        Bajaj      palsar 150    Pulsar 150  2014  50,737 km   \n",
       "2  Other brand     Beach Buggy   Other model  2005   5,000 km   \n",
       "3      Electra            Vino         Alpha  2019     600 km   \n",
       "4         Hero            2018  Maestro Edge  2018  18,500 km   \n",
       "5        Honda            650R           CBR  2020  12,700 km   \n",
       "6        Honda        CBR 650R           CBR  2020  15,000 km   \n",
       "7        Honda        CRF 250R           CRF  2008  10,000 km   \n",
       "8        Honda             NaN           Dio  2010  25,000 km   \n",
       "9        Honda          CH 125        Hornet  2002  17,200 km   \n",
       "\n",
       "                        Seller Capacity      Price  \n",
       "0                        lakee   150 cc    440,000  \n",
       "1                 Sasila Ishan   150 cc    370,000  \n",
       "2              vinuka automart   125 cc    210,000  \n",
       "3          Jeewantha Basnayaka    49 cc    105,000  \n",
       "4               Anjalee Motors   110 cc     80,000  \n",
       "5  Anne Filishiya Ross thuring   650 cc    889,000  \n",
       "6                  Dream Bikes   650 cc  2,500,000  \n",
       "7                       shehan   250 cc  1,400,000  \n",
       "8              Julatha Bandara    48 cc    125,000  \n",
       "9                       Shehan   250 cc    780,000  "
      ]
     },
     "execution_count": 4,
     "metadata": {},
     "output_type": "execute_result"
    }
   ],
   "source": [
    "data_path = \"../data/used-bikes.csv\"  \n",
    "df = pd.read_csv(data_path)\n",
    "print(\"Shape:\", df.shape)\n",
    "df.head(10)"
   ]
  },
  {
   "cell_type": "code",
   "execution_count": 3,
   "id": "7e2367c2",
   "metadata": {},
   "outputs": [
    {
     "name": "stdout",
     "output_type": "stream",
     "text": [
      "<class 'pandas.core.frame.DataFrame'>\n",
      "RangeIndex: 5016 entries, 0 to 5015\n",
      "Data columns (total 13 columns):\n",
      " #   Column        Non-Null Count  Dtype \n",
      "---  ------        --------------  ----- \n",
      " 0   Summary       5016 non-null   object\n",
      " 1   url           5016 non-null   object\n",
      " 2   Title         5016 non-null   object\n",
      " 3   Post_Details  5016 non-null   object\n",
      " 4   Bike Type     5016 non-null   object\n",
      " 5   Brand         5016 non-null   object\n",
      " 6   Trim/Edition  3815 non-null   object\n",
      " 7   Model         5016 non-null   object\n",
      " 8   Year          5016 non-null   int64 \n",
      " 9   Mileage       5016 non-null   object\n",
      " 10  Seller        5013 non-null   object\n",
      " 11  Capacity      5016 non-null   object\n",
      " 12  Price         5016 non-null   object\n",
      "dtypes: int64(1), object(12)\n",
      "memory usage: 509.6+ KB\n",
      "None\n"
     ]
    }
   ],
   "source": [
    "print(df.info())\n"
   ]
  },
  {
   "cell_type": "code",
   "execution_count": 5,
   "id": "e3fb2e41",
   "metadata": {},
   "outputs": [],
   "source": [
    "df = df.drop(['Summary', 'url', 'Title', 'Post_Details','Trim/Edition'],axis=1)\n"
   ]
  },
  {
   "cell_type": "code",
   "execution_count": 6,
   "id": "0737b993",
   "metadata": {},
   "outputs": [
    {
     "name": "stdout",
     "output_type": "stream",
     "text": [
      "         Bike Type        Brand         Model  Year  Mileage  \\\n",
      "0     Quadricycles  Other brand   Other model  2014  35000.0   \n",
      "1       Motorbikes        Bajaj    Pulsar 150  2014  50737.0   \n",
      "2     Quadricycles  Other brand   Other model  2005   5000.0   \n",
      "3          E-bikes      Electra         Alpha  2019    600.0   \n",
      "4         Scooters         Hero  Maestro Edge  2018  18500.0   \n",
      "...            ...          ...           ...   ...      ...   \n",
      "5011    Motorbikes       Yamaha   Other Model  2015  30000.0   \n",
      "5012    Motorbikes       Yamaha   Other Model  1988  20000.0   \n",
      "5013    Motorbikes       Yamaha   Other Model  2015  32270.0   \n",
      "5014    Motorbikes       Yamaha   Other Model  2018  12780.0   \n",
      "5015    Motorbikes       Yamaha           YZF  2017  18000.0   \n",
      "\n",
      "                             Seller  Capacity      Price  \n",
      "0                             lakee     150.0   440000.0  \n",
      "1                      Sasila Ishan     150.0   370000.0  \n",
      "2                   vinuka automart     125.0   210000.0  \n",
      "3               Jeewantha Basnayaka      49.0   105000.0  \n",
      "4                    Anjalee Motors     110.0    80000.0  \n",
      "...                             ...       ...        ...  \n",
      "5011               Dulshan Thaksara     250.0   580000.0  \n",
      "5012                        PW Farm      50.0   125000.0  \n",
      "5013  PLS Motors & Credit (Pvt) Ltd     125.0   250000.0  \n",
      "5014   Ranjith Japanese Motorcycles     125.0   320000.0  \n",
      "5015                 Shane Fernando     321.0  1550000.0  \n",
      "\n",
      "[5016 rows x 8 columns]\n",
      "Bike Type     object\n",
      "Brand         object\n",
      "Model         object\n",
      "Year           int64\n",
      "Mileage      float64\n",
      "Seller        object\n",
      "Capacity     float64\n",
      "Price        float64\n",
      "dtype: object\n"
     ]
    }
   ],
   "source": [
    "# Clean Mileage: remove commas and ' km'\n",
    "df['Mileage'] = (\n",
    "    df['Mileage']\n",
    "    .str.replace(',', '', regex=False)\n",
    "    .str.replace(' km', '', regex=False)\n",
    "    .astype(float)\n",
    ")\n",
    "\n",
    "# Clean Capacity: remove ' cc'\n",
    "df['Capacity'] = (\n",
    "    df['Capacity']\n",
    "    .str.replace(',', '', regex=False)\n",
    "    .str.replace(' cc', '', regex=False)\n",
    "    .astype(float)\n",
    ")\n",
    "\n",
    "# Clean Price: remove commas\n",
    "df['Price'] = df['Price'].str.replace(',', '', regex=False).astype(float)\n",
    "\n",
    "print(df)\n",
    "print(df.dtypes)\n"
   ]
  },
  {
   "cell_type": "code",
   "execution_count": 8,
   "id": "e0bf4c76",
   "metadata": {},
   "outputs": [
    {
     "name": "stdout",
     "output_type": "stream",
     "text": [
      "Shape after dropping missing values: (5013, 8)\n"
     ]
    }
   ],
   "source": [
    "df.isnull().sum()\n",
    "df = df.dropna().reset_index(drop=True)\n",
    "print(\"Shape after dropping missing values:\", df.shape)"
   ]
  },
  {
   "cell_type": "code",
   "execution_count": 9,
   "id": "69e6630f",
   "metadata": {},
   "outputs": [
    {
     "name": "stdout",
     "output_type": "stream",
     "text": [
      "After dedup shape: (4977, 8)\n"
     ]
    }
   ],
   "source": [
    "# Drop exact duplicates\n",
    "df = df.drop_duplicates().reset_index(drop=True)\n",
    "print(\"After dedup shape:\", df.shape)"
   ]
  },
  {
   "cell_type": "code",
   "execution_count": null,
   "id": "5117af03",
   "metadata": {},
   "outputs": [],
   "source": [
    "df[\"LogPrice\"] = np.log1p(df[\"Price\"]) \n"
   ]
  },
  {
   "cell_type": "code",
   "execution_count": 14,
   "id": "aeb694be",
   "metadata": {},
   "outputs": [
    {
     "data": {
      "image/png": "[encoded data removed]",
      "text/plain": [
       "<Figure size 1200x500 with 2 Axes>"
      ]
     },
     "metadata": {},
     "output_type": "display_data"
    }
   ],
   "source": [
    "plt.figure(figsize=(12,5))\n",
    "plt.subplot(1,2,1)\n",
    "sns.histplot(df[\"Price\"], bins=30, kde=True)\n",
    "plt.title(\"Original Price Distribution\")\n",
    "\n",
    "plt.subplot(1,2,2)\n",
    "sns.histplot(df[\"LogPrice\"], bins=30, kde=True)\n",
    "plt.title(\"Log-Transformed Price Distribution\")\n",
    "\n",
    "plt.show()"
   ]
  },
  {
   "cell_type": "markdown",
   "id": "dc717ee5",
   "metadata": {},
   "source": [
    "### Model Training"
   ]
  },
  {
   "cell_type": "code",
   "execution_count": 52,
   "id": "8e8ddddb",
   "metadata": {},
   "outputs": [],
   "source": [
    "df.to_csv(\"../data/used-bikes-cleaned.csv\", index=False)"
   ]
  },
  {
   "cell_type": "code",
   "execution_count": 53,
   "id": "0911e799",
   "metadata": {},
   "outputs": [
    {
     "data": {
      "text/plain": [
       "(4977, 9)"
      ]
     },
     "execution_count": 53,
     "metadata": {},
     "output_type": "execute_result"
    }
   ],
   "source": [
    "df = pd.read_csv(\"../data/used-bikes-cleaned.csv\")\n",
    "df.shape"
   ]
  },
  {
   "cell_type": "code",
   "execution_count": 54,
   "id": "e51eb95a",
   "metadata": {},
   "outputs": [],
   "source": [
    "X = df.drop([\"Price\", \"LogPrice\"], axis=1)\n",
    "y = df[\"Price\"]"
   ]
  },
  {
   "cell_type": "code",
   "execution_count": 55,
   "id": "3895f62f",
   "metadata": {},
   "outputs": [
    {
     "data": {
      "text/html": [
       "<div>\n",
       "<style scoped>\n",
       "    .dataframe tbody tr th:only-of-type {\n",
       "        vertical-align: middle;\n",
       "    }\n",
       "\n",
       "    .dataframe tbody tr th {\n",
       "        vertical-align: top;\n",
       "    }\n",
       "\n",
       "    .dataframe thead th {\n",
       "        text-align: right;\n",
       "    }\n",
       "</style>\n",
       "<table border=\"1\" class=\"dataframe\">\n",
       "  <thead>\n",
       "    <tr style=\"text-align: right;\">\n",
       "      <th></th>\n",
       "      <th>Bike Type</th>\n",
       "      <th>Brand</th>\n",
       "      <th>Model</th>\n",
       "      <th>Year</th>\n",
       "      <th>Mileage</th>\n",
       "      <th>Seller</th>\n",
       "      <th>Capacity</th>\n",
       "    </tr>\n",
       "  </thead>\n",
       "  <tbody>\n",
       "    <tr>\n",
       "      <th>0</th>\n",
       "      <td>Quadricycles</td>\n",
       "      <td>Other brand</td>\n",
       "      <td>Other model</td>\n",
       "      <td>2014</td>\n",
       "      <td>35000.0</td>\n",
       "      <td>lakee</td>\n",
       "      <td>150.0</td>\n",
       "    </tr>\n",
       "    <tr>\n",
       "      <th>1</th>\n",
       "      <td>Motorbikes</td>\n",
       "      <td>Bajaj</td>\n",
       "      <td>Pulsar 150</td>\n",
       "      <td>2014</td>\n",
       "      <td>50737.0</td>\n",
       "      <td>Sasila Ishan</td>\n",
       "      <td>150.0</td>\n",
       "    </tr>\n",
       "    <tr>\n",
       "      <th>2</th>\n",
       "      <td>Quadricycles</td>\n",
       "      <td>Other brand</td>\n",
       "      <td>Other model</td>\n",
       "      <td>2005</td>\n",
       "      <td>5000.0</td>\n",
       "      <td>vinuka automart</td>\n",
       "      <td>125.0</td>\n",
       "    </tr>\n",
       "    <tr>\n",
       "      <th>3</th>\n",
       "      <td>E-bikes</td>\n",
       "      <td>Electra</td>\n",
       "      <td>Alpha</td>\n",
       "      <td>2019</td>\n",
       "      <td>600.0</td>\n",
       "      <td>Jeewantha Basnayaka</td>\n",
       "      <td>49.0</td>\n",
       "    </tr>\n",
       "    <tr>\n",
       "      <th>4</th>\n",
       "      <td>Scooters</td>\n",
       "      <td>Hero</td>\n",
       "      <td>Maestro Edge</td>\n",
       "      <td>2018</td>\n",
       "      <td>18500.0</td>\n",
       "      <td>Anjalee Motors</td>\n",
       "      <td>110.0</td>\n",
       "    </tr>\n",
       "    <tr>\n",
       "      <th>...</th>\n",
       "      <td>...</td>\n",
       "      <td>...</td>\n",
       "      <td>...</td>\n",
       "      <td>...</td>\n",
       "      <td>...</td>\n",
       "      <td>...</td>\n",
       "      <td>...</td>\n",
       "    </tr>\n",
       "    <tr>\n",
       "      <th>4972</th>\n",
       "      <td>Motorbikes</td>\n",
       "      <td>Yamaha</td>\n",
       "      <td>Other Model</td>\n",
       "      <td>2015</td>\n",
       "      <td>30000.0</td>\n",
       "      <td>Dulshan Thaksara</td>\n",
       "      <td>250.0</td>\n",
       "    </tr>\n",
       "    <tr>\n",
       "      <th>4973</th>\n",
       "      <td>Motorbikes</td>\n",
       "      <td>Yamaha</td>\n",
       "      <td>Other Model</td>\n",
       "      <td>1988</td>\n",
       "      <td>20000.0</td>\n",
       "      <td>PW Farm</td>\n",
       "      <td>50.0</td>\n",
       "    </tr>\n",
       "    <tr>\n",
       "      <th>4974</th>\n",
       "      <td>Motorbikes</td>\n",
       "      <td>Yamaha</td>\n",
       "      <td>Other Model</td>\n",
       "      <td>2015</td>\n",
       "      <td>32270.0</td>\n",
       "      <td>PLS Motors &amp; Credit (Pvt) Ltd</td>\n",
       "      <td>125.0</td>\n",
       "    </tr>\n",
       "    <tr>\n",
       "      <th>4975</th>\n",
       "      <td>Motorbikes</td>\n",
       "      <td>Yamaha</td>\n",
       "      <td>Other Model</td>\n",
       "      <td>2018</td>\n",
       "      <td>12780.0</td>\n",
       "      <td>Ranjith Japanese Motorcycles</td>\n",
       "      <td>125.0</td>\n",
       "    </tr>\n",
       "    <tr>\n",
       "      <th>4976</th>\n",
       "      <td>Motorbikes</td>\n",
       "      <td>Yamaha</td>\n",
       "      <td>YZF</td>\n",
       "      <td>2017</td>\n",
       "      <td>18000.0</td>\n",
       "      <td>Shane Fernando</td>\n",
       "      <td>321.0</td>\n",
       "    </tr>\n",
       "  </tbody>\n",
       "</table>\n",
       "<p>4977 rows × 7 columns</p>\n",
       "</div>"
      ],
      "text/plain": [
       "         Bike Type        Brand         Model  Year  Mileage  \\\n",
       "0     Quadricycles  Other brand   Other model  2014  35000.0   \n",
       "1       Motorbikes        Bajaj    Pulsar 150  2014  50737.0   \n",
       "2     Quadricycles  Other brand   Other model  2005   5000.0   \n",
       "3          E-bikes      Electra         Alpha  2019    600.0   \n",
       "4         Scooters         Hero  Maestro Edge  2018  18500.0   \n",
       "...            ...          ...           ...   ...      ...   \n",
       "4972    Motorbikes       Yamaha   Other Model  2015  30000.0   \n",
       "4973    Motorbikes       Yamaha   Other Model  1988  20000.0   \n",
       "4974    Motorbikes       Yamaha   Other Model  2015  32270.0   \n",
       "4975    Motorbikes       Yamaha   Other Model  2018  12780.0   \n",
       "4976    Motorbikes       Yamaha           YZF  2017  18000.0   \n",
       "\n",
       "                             Seller  Capacity  \n",
       "0                             lakee     150.0  \n",
       "1                      Sasila Ishan     150.0  \n",
       "2                   vinuka automart     125.0  \n",
       "3               Jeewantha Basnayaka      49.0  \n",
       "4                    Anjalee Motors     110.0  \n",
       "...                             ...       ...  \n",
       "4972               Dulshan Thaksara     250.0  \n",
       "4973                        PW Farm      50.0  \n",
       "4974  PLS Motors & Credit (Pvt) Ltd     125.0  \n",
       "4975   Ranjith Japanese Motorcycles     125.0  \n",
       "4976                 Shane Fernando     321.0  \n",
       "\n",
       "[4977 rows x 7 columns]"
      ]
     },
     "execution_count": 55,
     "metadata": {},
     "output_type": "execute_result"
    }
   ],
   "source": [
    "X"
   ]
  },
  {
   "cell_type": "code",
   "execution_count": 56,
   "id": "df5c4159",
   "metadata": {},
   "outputs": [
    {
     "data": {
      "text/plain": [
       "0        440000.0\n",
       "1        370000.0\n",
       "2        210000.0\n",
       "3        105000.0\n",
       "4         80000.0\n",
       "          ...    \n",
       "4972     580000.0\n",
       "4973     125000.0\n",
       "4974     250000.0\n",
       "4975     320000.0\n",
       "4976    1550000.0\n",
       "Name: Price, Length: 4977, dtype: float64"
      ]
     },
     "execution_count": 56,
     "metadata": {},
     "output_type": "execute_result"
    }
   ],
   "source": [
    "y"
   ]
  },
  {
   "cell_type": "code",
   "execution_count": 57,
   "id": "a1a96a28",
   "metadata": {},
   "outputs": [
    {
     "name": "stdout",
     "output_type": "stream",
     "text": [
      "(3981, 7) (996, 7)\n"
     ]
    }
   ],
   "source": [
    "X_train, X_test, y_train, y_test = train_test_split(X, y, test_size=0.20, random_state=42)\n",
    "print(X_train.shape, X_test.shape)"
   ]
  },
  {
   "cell_type": "code",
   "execution_count": 58,
   "id": "6e2ef697",
   "metadata": {},
   "outputs": [
    {
     "name": "stdout",
     "output_type": "stream",
     "text": [
      "Numeric: ['Year', 'Mileage', 'Capacity']\n",
      "Categorical: ['Bike Type', 'Brand', 'Model', 'Seller']\n"
     ]
    }
   ],
   "source": [
    "numeric_features = X_train.select_dtypes(include=[np.number]).columns.tolist()\n",
    "categorical_features = X_train.select_dtypes(include=['object', 'category']).columns.tolist()\n",
    "\n",
    "print(\"Numeric:\", numeric_features)\n",
    "print(\"Categorical:\", categorical_features)\n",
    "\n"
   ]
  },
  {
   "cell_type": "code",
   "execution_count": null,
   "id": "98f8dc35",
   "metadata": {},
   "outputs": [],
   "source": [
    "# Numeric pipeline: impute median + scale\n",
    "numeric_transformer = Pipeline(steps=[\n",
    "    ('imputer', SimpleImputer(strategy='median')),\n",
    "    ('scaler', StandardScaler())\n",
    "])\n",
    "# Categorical pipeline: impute constant + one-hot encode\n",
    "categorical_transformer = Pipeline(steps=[\n",
    "    ('imputer', SimpleImputer(strategy='constant', fill_value='missing')),\n",
    "    ('onehot', OneHotEncoder(handle_unknown='ignore', sparse_output=False))\n",
    "])\n",
    "\n",
    "preprocessor = ColumnTransformer(transformers=[\n",
    "    ('num', numeric_transformer, numeric_features),\n",
    "    ('cat', categorical_transformer, categorical_features),\n",
    "])\n",
    "\n",
    "X_train_processed = preprocessor.fit_transform(X_train)\n",
    "X_test_processed = preprocessor.fit_transform(X_test)"
   ]
  },
  {
   "cell_type": "code",
   "execution_count": 60,
   "id": "6c189647",
   "metadata": {},
   "outputs": [
    {
     "name": "stdout",
     "output_type": "stream",
     "text": [
      "Processed train shape: (3981, 2789)\n",
      "Processed test shape: (996, 2789)\n",
      "y_train shape: (3981,)\n",
      "y_test shape: (996,)\n"
     ]
    }
   ],
   "source": [
    "print(\"Processed train shape:\", X_train_processed.shape)\n",
    "print(\"Processed test shape:\", X_test_processed.shape)\n",
    "print(\"y_train shape:\", y_train.shape)\n",
    "print(\"y_test shape:\", y_test.shape)"
   ]
  },
  {
   "cell_type": "code",
   "execution_count": 62,
   "id": "c5df808d",
   "metadata": {},
   "outputs": [
    {
     "name": "stdout",
     "output_type": "stream",
     "text": [
      "R² Score: 0.4528\n"
     ]
    }
   ],
   "source": [
    "from sklearn.linear_model import LinearRegression\n",
    "from sklearn.metrics import r2_score\n",
    "\n",
    "model = LinearRegression()\n",
    "model.fit(X_train_processed, y_train)\n",
    "y_pred = model.predict(X_test_processed)\n",
    "r2 = r2_score(y_test, y_pred)\n",
    "print(f\"R² Score: {r2:.4f}\")"
   ]
  },
  {
   "cell_type": "code",
   "execution_count": 37,
   "id": "3920219a",
   "metadata": {},
   "outputs": [
    {
     "name": "stdout",
     "output_type": "stream",
     "text": [
      "Average R²: 0.42012915510807025\n",
      "Best R²: 0.6599492036560264\n"
     ]
    }
   ],
   "source": [
    "scores = []\n",
    "\n",
    "for i in range(1000):\n",
    "    \n",
    "    X_train, X_test, y_train, y_test = train_test_split(X, y, test_size=0.1, random_state=i)\n",
    "    \n",
    "    X_train_processed = preprocessor.fit_transform(X_train)\n",
    "    X_test_processed = preprocessor.transform(X_test)\n",
    "    \n",
    "    model = LinearRegression()\n",
    "    model.fit(X_train_processed, y_train)\n",
    "    \n",
    "    y_pred = model.predict(X_test_processed)\n",
    "    r2 = r2_score(y_test, y_pred)\n",
    "    scores.append(r2)\n",
    "\n",
    "print(\"Average R²:\", np.mean(scores))\n",
    "print(\"Best R²:\", np.max(scores))\n"
   ]
  },
  {
   "cell_type": "code",
   "execution_count": 38,
   "id": "8a2fa021",
   "metadata": {},
   "outputs": [
    {
     "data": {
      "text/plain": [
       "np.int64(588)"
      ]
     },
     "execution_count": 38,
     "metadata": {},
     "output_type": "execute_result"
    }
   ],
   "source": [
    "np.argmax(scores)\n"
   ]
  },
  {
   "cell_type": "code",
   "execution_count": 39,
   "id": "ceb1ed5e",
   "metadata": {},
   "outputs": [
    {
     "data": {
      "text/plain": [
       "0.6599492036560264"
      ]
     },
     "execution_count": 39,
     "metadata": {},
     "output_type": "execute_result"
    }
   ],
   "source": [
    "scores[np.argmax(scores)]\n"
   ]
  },
  {
   "cell_type": "code",
   "execution_count": null,
   "id": "e8590778",
   "metadata": {},
   "outputs": [
    {
     "name": "stdout",
     "output_type": "stream",
     "text": [
      "R² Score: 0.6599\n"
     ]
    }
   ],
   "source": [
    "# np.argmax(scores) = 588\n",
    "X_train, X_test, y_train, y_test = train_test_split(X, y, test_size=0.1, random_state=np.argmax(scores))\n",
    "    \n",
    "X_train_processed = preprocessor.fit_transform(X_train)\n",
    "X_test_processed = preprocessor.transform(X_test)\n",
    "    \n",
    "model = LinearRegression()\n",
    "model.fit(X_train_processed, y_train)\n",
    "    \n",
    "y_pred = model.predict(X_test_processed)\n",
    "r2 = r2_score(y_test, y_pred)\n",
    "print(f\"R² Score: {r2:.4f}\")"
   ]
  },
  {
   "cell_type": "code",
   "execution_count": 41,
   "id": "dc03bfde",
   "metadata": {},
   "outputs": [],
   "source": [
    "import pickle\n",
    "with open('../models/linear_regression_model.pkl', 'wb') as f:\n",
    "    pickle.dump(model, f)"
   ]
  },
  {
   "cell_type": "code",
   "execution_count": 63,
   "id": "d831906b",
   "metadata": {},
   "outputs": [
    {
     "name": "stdout",
     "output_type": "stream",
     "text": [
      "Linear: R²=0.4528, MAE=115817.31\n",
      "Ridge: R²=0.6072, MAE=99107.49\n",
      "RandomForest: R²=0.7322, MAE=73413.80\n",
      "XGBoost: R²=0.7354, MAE=80221.40\n"
     ]
    }
   ],
   "source": [
    "from xgboost import XGBRegressor\n",
    "from sklearn.ensemble import RandomForestRegressor\n",
    "from sklearn.metrics import mean_absolute_error\n",
    "\n",
    "models = {\n",
    "    \"Linear\": LinearRegression(),\n",
    "    \"Ridge\": Ridge(alpha=1.0),\n",
    "    \"RandomForest\": RandomForestRegressor(n_estimators=200, random_state=42, n_jobs=-1),\n",
    "    \"XGBoost\": XGBRegressor(n_estimators=300, learning_rate=0.05, random_state=42, n_jobs=-1)\n",
    "}\n",
    "\n",
    "for name, model in models.items():\n",
    "    pipe = Pipeline(steps=[('pre', preprocessor), ('model', model)])\n",
    "    pipe.fit(X_train, y_train)\n",
    "    y_pred = pipe.predict(X_test)\n",
    "    mae = mean_absolute_error(y_test, y_pred)\n",
    "    r2 = r2_score(y_test, y_pred)\n",
    "    print(f\"{name}: R²={r2:.4f}, MAE={mae:.2f}\")\n"
   ]
  },
  {
   "cell_type": "markdown",
   "id": "2752d4d3",
   "metadata": {},
   "source": [
    "### Hyperparameter Tuning"
   ]
  },
  {
   "cell_type": "code",
   "execution_count": 66,
   "id": "3714888d",
   "metadata": {},
   "outputs": [
    {
     "name": "stdout",
     "output_type": "stream",
     "text": [
      "Fitting 3 folds for each of 30 candidates, totalling 90 fits\n",
      "Best R²: 0.4616870542153202\n",
      "Best Parameters: {'n_estimators': 200, 'min_samples_split': 2, 'min_samples_leaf': 1, 'max_features': 'sqrt', 'max_depth': 30}\n"
     ]
    }
   ],
   "source": [
    "from sklearn.model_selection import RandomizedSearchCV\n",
    "from sklearn.ensemble import RandomForestRegressor\n",
    "import numpy as np\n",
    "\n",
    "param_dist = {\n",
    "    'n_estimators': [100, 200, 300, 500],\n",
    "    'max_depth': [10, 20, 30, None],\n",
    "    'min_samples_split': [2, 5, 10],\n",
    "    'min_samples_leaf': [1, 2, 4],\n",
    "    'max_features': ['auto', 'sqrt']\n",
    "}\n",
    "\n",
    "rf = RandomForestRegressor(random_state=42, n_jobs=-1)\n",
    "search = RandomizedSearchCV(rf, param_distributions=param_dist,\n",
    "                            n_iter=30, cv=3, scoring='r2', n_jobs=-1, verbose=2)\n",
    "search.fit(X_train_processed, y_train)\n",
    "\n",
    "print(\"Best R²:\", search.best_score_)\n",
    "print(\"Best Parameters:\", search.best_params_)\n",
    "\n"
   ]
  },
  {
   "cell_type": "code",
   "execution_count": 69,
   "id": "63a7fdb3",
   "metadata": {},
   "outputs": [
    {
     "name": "stdout",
     "output_type": "stream",
     "text": [
      "Final R²: 0.5249644459136541\n",
      "Final MAE: 120709.10331196063\n"
     ]
    }
   ],
   "source": [
    "from sklearn.ensemble import RandomForestRegressor\n",
    "\n",
    "# Initialize model with best parameters\n",
    "final_rf = RandomForestRegressor(\n",
    "    n_estimators=200,\n",
    "    min_samples_split=2,\n",
    "    min_samples_leaf=1,\n",
    "    max_features='sqrt',\n",
    "    max_depth=30,\n",
    "    random_state=42,\n",
    "    n_jobs=-1\n",
    ")\n",
    "            \n",
    "# Fit on the full training data\n",
    "final_rf.fit(X_train_processed, y_train)\n",
    "\n",
    "\n",
    "# Evaluate on test data\n",
    "y_pred = final_rf.predict(X_test_processed)\n",
    "\n",
    "from sklearn.metrics import mean_absolute_error, r2_score\n",
    "print(\"Final R²:\", r2_score(y_test, y_pred))\n",
    "print(\"Final MAE:\", mean_absolute_error(y_test, y_pred))\n"
   ]
  },
  {
   "cell_type": "code",
   "execution_count": 70,
   "id": "6bd2f456",
   "metadata": {},
   "outputs": [
    {
     "name": "stdout",
     "output_type": "stream",
     "text": [
      "Fitting 3 folds for each of 243 candidates, totalling 729 fits\n",
      "{'colsample_bytree': 0.7, 'learning_rate': 0.1, 'max_depth': 4, 'n_estimators': 600, 'subsample': 0.9}\n"
     ]
    }
   ],
   "source": [
    "from xgboost import XGBRegressor\n",
    "from sklearn.model_selection import GridSearchCV\n",
    "\n",
    "xgb = XGBRegressor(random_state=42)\n",
    "params = {\n",
    "    'n_estimators': [200, 400, 600],\n",
    "    'learning_rate': [0.05, 0.1, 0.2],\n",
    "    'max_depth': [4, 6, 8],\n",
    "    'subsample': [0.7, 0.9, 1.0],\n",
    "    'colsample_bytree': [0.7, 0.9, 1.0]\n",
    "}\n",
    "grid = GridSearchCV(xgb, params, cv=3, scoring='r2', n_jobs=-1, verbose=2)\n",
    "grid.fit(X_train_processed, y_train)\n",
    "print(grid.best_params_)\n"
   ]
  },
  {
   "cell_type": "code",
   "execution_count": 71,
   "id": "bd6a6bcb",
   "metadata": {},
   "outputs": [
    {
     "name": "stdout",
     "output_type": "stream",
     "text": [
      "Final XGB R²: 0.7518242488510856\n",
      "Final XGB MAE: 74682.87555348346\n"
     ]
    }
   ],
   "source": [
    "final_xgb = XGBRegressor(\n",
    "    n_estimators=600,\n",
    "    learning_rate=0.1,\n",
    "    max_depth=4,\n",
    "    subsample=0.9,\n",
    "    colsample_bytree=0.7,\n",
    "    random_state=42,\n",
    "    n_jobs=-1\n",
    ")\n",
    "final_xgb.fit(X_train_processed, y_train)\n",
    "y_pred = final_xgb.predict(X_test_processed)\n",
    "print(\"Final XGB R²:\", r2_score(y_test, y_pred))\n",
    "print(\"Final XGB MAE:\", mean_absolute_error(y_test, y_pred))"
   ]
  },
  {
   "cell_type": "markdown",
   "id": "f2802abe",
   "metadata": {},
   "source": [
    "### Apply Cross Validation"
   ]
  },
  {
   "cell_type": "code",
   "execution_count": 72,
   "id": "aa1dac13",
   "metadata": {},
   "outputs": [
    {
     "name": "stdout",
     "output_type": "stream",
     "text": [
      "Cross-Validation R² Scores: [0.51161354 0.48136184 0.50500765 0.46971203 0.46087862]\n",
      "Average CV R²: 0.4857 ± 0.0197\n"
     ]
    }
   ],
   "source": [
    "from sklearn.model_selection import cross_val_score, KFold\n",
    "from sklearn.pipeline import Pipeline\n",
    "from sklearn.ensemble import RandomForestRegressor\n",
    "import numpy as np\n",
    "\n",
    "# Define model\n",
    "rf = RandomForestRegressor(\n",
    "    n_estimators=200,\n",
    "    min_samples_split=2,\n",
    "    min_samples_leaf=1,\n",
    "    max_features='sqrt',\n",
    "    max_depth=30,\n",
    "    random_state=42,\n",
    "    n_jobs=-1\n",
    ")\n",
    "\n",
    "# Combine preprocessing + model into a single pipeline\n",
    "pipe = Pipeline(steps=[\n",
    "    ('preprocessor', preprocessor),\n",
    "    ('model', rf)\n",
    "])\n",
    "\n",
    "# Define 5-fold cross-validation\n",
    "cv = KFold(n_splits=5, shuffle=True, random_state=42)\n",
    "\n",
    "# Perform cross-validation\n",
    "scores = cross_val_score(pipe, X_train, y_train, cv=cv, scoring='r2', n_jobs=-1)\n",
    "\n",
    "print(f\"Cross-Validation R² Scores: {scores}\")\n",
    "print(f\"Average CV R²: {np.mean(scores):.4f} ± {np.std(scores):.4f}\")\n"
   ]
  },
  {
   "cell_type": "code",
   "execution_count": 73,
   "id": "ce790f39",
   "metadata": {},
   "outputs": [
    {
     "name": "stdout",
     "output_type": "stream",
     "text": [
      "XGB Cross-Validation R² Scores: [0.7381203  0.67128909 0.71920425 0.67592449 0.67458111]\n",
      "Average XGB CV R²: 0.6958 ± 0.0275\n"
     ]
    }
   ],
   "source": [
    "final_xgb = XGBRegressor(\n",
    "    n_estimators=600,\n",
    "    learning_rate=0.1,\n",
    "    max_depth=4,\n",
    "    subsample=0.9,\n",
    "    colsample_bytree=0.7,\n",
    "    random_state=42,\n",
    "    n_jobs=-1\n",
    ")\n",
    "\n",
    "pipe = Pipeline(steps=[\n",
    "    ('preprocessor', preprocessor),\n",
    "    ('model', final_xgb)\n",
    "])\n",
    "\n",
    "cv = KFold(n_splits=5, shuffle=True, random_state=42)\n",
    "scores = cross_val_score(pipe, X_train, y_train, cv=cv, scoring='r2', n_jobs=-1)\n",
    "print(f\"XGB Cross-Validation R² Scores: {scores}\")\n",
    "print(f\"Average XGB CV R²: {np.mean(scores):.4f} ± {np.std(scores):.4f}\")"
   ]
  }
 ],
 "metadata": {
  "kernelspec": {
   "display_name": "base",
   "language": "python",
   "name": "python3"
  },
  "language_info": {
   "codemirror_mode": {
    "name": "ipython",
    "version": 3
   },
   "file_extension": ".py",
   "mimetype": "text/x-python",
   "name": "python",
   "nbconvert_exporter": "python",
   "pygments_lexer": "ipython3",
   "version": "3.13.5"
  }
 },
 "nbformat": 4,
 "nbformat_minor": 5
}
