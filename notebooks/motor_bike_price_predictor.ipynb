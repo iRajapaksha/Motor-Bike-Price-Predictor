{
 "cells": [
  {
   "cell_type": "markdown",
   "id": "51591272",
   "metadata": {},
   "source": [
    "### Data Preprocessing"
   ]
  },
  {
   "cell_type": "code",
   "execution_count": 1,
   "id": "aaab69c2",
   "metadata": {},
   "outputs": [],
   "source": [
    "import numpy as np\n",
    "import pandas as pd\n",
    "import joblib\n",
    "import shap\n",
    "from pathlib import Path\n",
    "\n",
    "from sklearn.model_selection import train_test_split, cross_val_score, RandomizedSearchCV, KFold\n",
    "\n",
    "from sklearn.ensemble import RandomForestRegressor\n",
    "from sklearn.linear_model import Ridge\n",
    "from sklearn.tree import DecisionTreeRegressor\n",
    "from sklearn.metrics import mean_squared_error, mean_absolute_error, r2_score\n",
    "from xgboost import XGBRegressor\n",
    "from catboost import CatBoostRegressor\n",
    "import scipy.stats as stats\n",
    "from sklearn.pipeline import Pipeline\n",
    "from sklearn.compose import ColumnTransformer\n",
    "from sklearn.preprocessing import StandardScaler, OneHotEncoder, OrdinalEncoder\n",
    "from sklearn.impute import SimpleImputer"
   ]
  },
  {
   "cell_type": "code",
   "execution_count": 2,
   "id": "0911e799",
   "metadata": {},
   "outputs": [
    {
     "data": {
      "text/plain": [
       "(4977, 9)"
      ]
     },
     "execution_count": 2,
     "metadata": {},
     "output_type": "execute_result"
    }
   ],
   "source": [
    "df = pd.read_csv(\"../data/used-bikes-cleaned.csv\")\n",
    "df.shape"
   ]
  },
  {
   "cell_type": "code",
   "execution_count": 3,
   "id": "e51eb95a",
   "metadata": {},
   "outputs": [],
   "source": [
    "X = df.drop([\"Price\", \"LogPrice\"], axis=1)\n",
    "y = df[\"Price\"]"
   ]
  },
  {
   "cell_type": "code",
   "execution_count": 4,
   "id": "3895f62f",
   "metadata": {},
   "outputs": [
    {
     "data": {
      "text/html": [
       "<div>\n",
       "<style scoped>\n",
       "    .dataframe tbody tr th:only-of-type {\n",
       "        vertical-align: middle;\n",
       "    }\n",
       "\n",
       "    .dataframe tbody tr th {\n",
       "        vertical-align: top;\n",
       "    }\n",
       "\n",
       "    .dataframe thead th {\n",
       "        text-align: right;\n",
       "    }\n",
       "</style>\n",
       "<table border=\"1\" class=\"dataframe\">\n",
       "  <thead>\n",
       "    <tr style=\"text-align: right;\">\n",
       "      <th></th>\n",
       "      <th>Bike Type</th>\n",
       "      <th>Brand</th>\n",
       "      <th>Model</th>\n",
       "      <th>Year</th>\n",
       "      <th>Mileage</th>\n",
       "      <th>Seller</th>\n",
       "      <th>Capacity</th>\n",
       "    </tr>\n",
       "  </thead>\n",
       "  <tbody>\n",
       "    <tr>\n",
       "      <th>0</th>\n",
       "      <td>Quadricycles</td>\n",
       "      <td>Other brand</td>\n",
       "      <td>Other model</td>\n",
       "      <td>2014</td>\n",
       "      <td>35000.0</td>\n",
       "      <td>lakee</td>\n",
       "      <td>150.0</td>\n",
       "    </tr>\n",
       "    <tr>\n",
       "      <th>1</th>\n",
       "      <td>Motorbikes</td>\n",
       "      <td>Bajaj</td>\n",
       "      <td>Pulsar 150</td>\n",
       "      <td>2014</td>\n",
       "      <td>50737.0</td>\n",
       "      <td>Sasila Ishan</td>\n",
       "      <td>150.0</td>\n",
       "    </tr>\n",
       "    <tr>\n",
       "      <th>2</th>\n",
       "      <td>Quadricycles</td>\n",
       "      <td>Other brand</td>\n",
       "      <td>Other model</td>\n",
       "      <td>2005</td>\n",
       "      <td>5000.0</td>\n",
       "      <td>vinuka automart</td>\n",
       "      <td>125.0</td>\n",
       "    </tr>\n",
       "    <tr>\n",
       "      <th>3</th>\n",
       "      <td>E-bikes</td>\n",
       "      <td>Electra</td>\n",
       "      <td>Alpha</td>\n",
       "      <td>2019</td>\n",
       "      <td>600.0</td>\n",
       "      <td>Jeewantha Basnayaka</td>\n",
       "      <td>49.0</td>\n",
       "    </tr>\n",
       "    <tr>\n",
       "      <th>4</th>\n",
       "      <td>Scooters</td>\n",
       "      <td>Hero</td>\n",
       "      <td>Maestro Edge</td>\n",
       "      <td>2018</td>\n",
       "      <td>18500.0</td>\n",
       "      <td>Anjalee Motors</td>\n",
       "      <td>110.0</td>\n",
       "    </tr>\n",
       "    <tr>\n",
       "      <th>...</th>\n",
       "      <td>...</td>\n",
       "      <td>...</td>\n",
       "      <td>...</td>\n",
       "      <td>...</td>\n",
       "      <td>...</td>\n",
       "      <td>...</td>\n",
       "      <td>...</td>\n",
       "    </tr>\n",
       "    <tr>\n",
       "      <th>4972</th>\n",
       "      <td>Motorbikes</td>\n",
       "      <td>Yamaha</td>\n",
       "      <td>Other Model</td>\n",
       "      <td>2015</td>\n",
       "      <td>30000.0</td>\n",
       "      <td>Dulshan Thaksara</td>\n",
       "      <td>250.0</td>\n",
       "    </tr>\n",
       "    <tr>\n",
       "      <th>4973</th>\n",
       "      <td>Motorbikes</td>\n",
       "      <td>Yamaha</td>\n",
       "      <td>Other Model</td>\n",
       "      <td>1988</td>\n",
       "      <td>20000.0</td>\n",
       "      <td>PW Farm</td>\n",
       "      <td>50.0</td>\n",
       "    </tr>\n",
       "    <tr>\n",
       "      <th>4974</th>\n",
       "      <td>Motorbikes</td>\n",
       "      <td>Yamaha</td>\n",
       "      <td>Other Model</td>\n",
       "      <td>2015</td>\n",
       "      <td>32270.0</td>\n",
       "      <td>PLS Motors &amp; Credit (Pvt) Ltd</td>\n",
       "      <td>125.0</td>\n",
       "    </tr>\n",
       "    <tr>\n",
       "      <th>4975</th>\n",
       "      <td>Motorbikes</td>\n",
       "      <td>Yamaha</td>\n",
       "      <td>Other Model</td>\n",
       "      <td>2018</td>\n",
       "      <td>12780.0</td>\n",
       "      <td>Ranjith Japanese Motorcycles</td>\n",
       "      <td>125.0</td>\n",
       "    </tr>\n",
       "    <tr>\n",
       "      <th>4976</th>\n",
       "      <td>Motorbikes</td>\n",
       "      <td>Yamaha</td>\n",
       "      <td>YZF</td>\n",
       "      <td>2017</td>\n",
       "      <td>18000.0</td>\n",
       "      <td>Shane Fernando</td>\n",
       "      <td>321.0</td>\n",
       "    </tr>\n",
       "  </tbody>\n",
       "</table>\n",
       "<p>4977 rows × 7 columns</p>\n",
       "</div>"
      ],
      "text/plain": [
       "         Bike Type        Brand         Model  Year  Mileage  \\\n",
       "0     Quadricycles  Other brand   Other model  2014  35000.0   \n",
       "1       Motorbikes        Bajaj    Pulsar 150  2014  50737.0   \n",
       "2     Quadricycles  Other brand   Other model  2005   5000.0   \n",
       "3          E-bikes      Electra         Alpha  2019    600.0   \n",
       "4         Scooters         Hero  Maestro Edge  2018  18500.0   \n",
       "...            ...          ...           ...   ...      ...   \n",
       "4972    Motorbikes       Yamaha   Other Model  2015  30000.0   \n",
       "4973    Motorbikes       Yamaha   Other Model  1988  20000.0   \n",
       "4974    Motorbikes       Yamaha   Other Model  2015  32270.0   \n",
       "4975    Motorbikes       Yamaha   Other Model  2018  12780.0   \n",
       "4976    Motorbikes       Yamaha           YZF  2017  18000.0   \n",
       "\n",
       "                             Seller  Capacity  \n",
       "0                             lakee     150.0  \n",
       "1                      Sasila Ishan     150.0  \n",
       "2                   vinuka automart     125.0  \n",
       "3               Jeewantha Basnayaka      49.0  \n",
       "4                    Anjalee Motors     110.0  \n",
       "...                             ...       ...  \n",
       "4972               Dulshan Thaksara     250.0  \n",
       "4973                        PW Farm      50.0  \n",
       "4974  PLS Motors & Credit (Pvt) Ltd     125.0  \n",
       "4975   Ranjith Japanese Motorcycles     125.0  \n",
       "4976                 Shane Fernando     321.0  \n",
       "\n",
       "[4977 rows x 7 columns]"
      ]
     },
     "execution_count": 4,
     "metadata": {},
     "output_type": "execute_result"
    }
   ],
   "source": [
    "X"
   ]
  },
  {
   "cell_type": "code",
   "execution_count": 5,
   "id": "df5c4159",
   "metadata": {},
   "outputs": [
    {
     "data": {
      "text/plain": [
       "0        440000.0\n",
       "1        370000.0\n",
       "2        210000.0\n",
       "3        105000.0\n",
       "4         80000.0\n",
       "          ...    \n",
       "4972     580000.0\n",
       "4973     125000.0\n",
       "4974     250000.0\n",
       "4975     320000.0\n",
       "4976    1550000.0\n",
       "Name: Price, Length: 4977, dtype: float64"
      ]
     },
     "execution_count": 5,
     "metadata": {},
     "output_type": "execute_result"
    }
   ],
   "source": [
    "y"
   ]
  },
  {
   "cell_type": "code",
   "execution_count": 6,
   "id": "a1a96a28",
   "metadata": {},
   "outputs": [
    {
     "name": "stdout",
     "output_type": "stream",
     "text": [
      "(3981, 7) (996, 7)\n"
     ]
    }
   ],
   "source": [
    "X_train, X_test, y_train, y_test = train_test_split(X, y, test_size=0.20, random_state=42)\n",
    "print(X_train.shape, X_test.shape)"
   ]
  },
  {
   "cell_type": "code",
   "execution_count": 7,
   "id": "6e2ef697",
   "metadata": {},
   "outputs": [
    {
     "name": "stdout",
     "output_type": "stream",
     "text": [
      "Numeric: ['Year', 'Mileage', 'Capacity']\n",
      "Categorical: ['Bike Type', 'Brand', 'Model', 'Seller']\n"
     ]
    }
   ],
   "source": [
    "numeric_features = X_train.select_dtypes(include=[np.number]).columns.tolist()\n",
    "categorical_features = X_train.select_dtypes(include=['object', 'category']).columns.tolist()\n",
    "\n",
    "print(\"Numeric:\", numeric_features)\n",
    "print(\"Categorical:\", categorical_features)\n",
    "\n"
   ]
  },
  {
   "cell_type": "code",
   "execution_count": 8,
   "id": "98f8dc35",
   "metadata": {},
   "outputs": [],
   "source": [
    "# Numeric pipeline: impute median + scale\n",
    "numeric_transformer = Pipeline(steps=[\n",
    "    ('imputer', SimpleImputer(strategy='median')),\n",
    "    ('scaler', StandardScaler())\n",
    "])\n",
    "# Categorical pipeline: impute constant + one-hot encode\n",
    "categorical_transformer = Pipeline(steps=[\n",
    "    ('imputer', SimpleImputer(strategy='constant', fill_value='missing')),\n",
    "    ('onehot', OneHotEncoder(handle_unknown='ignore', sparse_output=False))\n",
    "])\n",
    "\n",
    "preprocessor = ColumnTransformer(transformers=[\n",
    "    ('num', numeric_transformer, numeric_features),\n",
    "    ('cat', categorical_transformer, categorical_features),\n",
    "])\n",
    "\n",
    "X_train_processed = preprocessor.fit_transform(X_train)\n",
    "X_test_processed = preprocessor.transform(X_test)"
   ]
  },
  {
   "cell_type": "code",
   "execution_count": 9,
   "id": "6c189647",
   "metadata": {},
   "outputs": [
    {
     "name": "stdout",
     "output_type": "stream",
     "text": [
      "Processed train shape: (3981, 2789)\n",
      "Processed test shape: (996, 2789)\n",
      "y_train shape: (3981,)\n",
      "y_test shape: (996,)\n"
     ]
    }
   ],
   "source": [
    "print(\"Processed train shape:\", X_train_processed.shape)\n",
    "print(\"Processed test shape:\", X_test_processed.shape)\n",
    "print(\"y_train shape:\", y_train.shape)\n",
    "print(\"y_test shape:\", y_test.shape)"
   ]
  },
  {
   "cell_type": "markdown",
   "id": "588c7d6d",
   "metadata": {},
   "source": [
    "### Model Training"
   ]
  },
  {
   "cell_type": "code",
   "execution_count": 10,
   "id": "c5df808d",
   "metadata": {},
   "outputs": [
    {
     "name": "stdout",
     "output_type": "stream",
     "text": [
      "R² Score: 0.4528\n"
     ]
    }
   ],
   "source": [
    "from sklearn.linear_model import LinearRegression\n",
    "from sklearn.metrics import r2_score\n",
    "\n",
    "model = LinearRegression()\n",
    "model.fit(X_train_processed, y_train)\n",
    "y_pred = model.predict(X_test_processed)\n",
    "r2 = r2_score(y_test, y_pred)\n",
    "print(f\"R² Score: {r2:.4f}\")"
   ]
  },
  {
   "cell_type": "code",
   "execution_count": 11,
   "id": "3920219a",
   "metadata": {},
   "outputs": [],
   "source": [
    "# scores = []\n",
    "\n",
    "# for i in range(1000):\n",
    "    \n",
    "#     X_train, X_test, y_train, y_test = train_test_split(X, y, test_size=0.1, random_state=i)\n",
    "    \n",
    "#     X_train_processed = preprocessor.fit_transform(X_train)\n",
    "#     X_test_processed = preprocessor.transform(X_test)\n",
    "    \n",
    "#     model = LinearRegression()\n",
    "#     model.fit(X_train_processed, y_train)\n",
    "    \n",
    "#     y_pred = model.predict(X_test_processed)\n",
    "#     r2 = r2_score(y_test, y_pred)\n",
    "#     scores.append(r2)\n",
    "\n",
    "# print(\"Average R²:\", np.mean(scores))\n",
    "# print(\"Best R²:\", np.max(scores))\n"
   ]
  },
  {
   "cell_type": "code",
   "execution_count": 12,
   "id": "e8590778",
   "metadata": {},
   "outputs": [
    {
     "name": "stdout",
     "output_type": "stream",
     "text": [
      "R² Score: 0.6599\n"
     ]
    }
   ],
   "source": [
    "# np.argmax(scores) = 588 -> 0.6599492036560264\n",
    "X_train, X_test, y_train, y_test = train_test_split(X, y, test_size=0.1, random_state=588)\n",
    "    \n",
    "X_train_processed = preprocessor.fit_transform(X_train)\n",
    "X_test_processed = preprocessor.transform(X_test)\n",
    "    \n",
    "model = LinearRegression()\n",
    "model.fit(X_train_processed, y_train)\n",
    "    \n",
    "y_pred = model.predict(X_test_processed)\n",
    "r2 = r2_score(y_test, y_pred)\n",
    "print(f\"R² Score: {r2:.4f}\")"
   ]
  },
  {
   "cell_type": "code",
   "execution_count": 13,
   "id": "dc03bfde",
   "metadata": {},
   "outputs": [],
   "source": [
    "import pickle\n",
    "with open('../models/linear_regression_model.pkl', 'wb') as f:\n",
    "    pickle.dump(model, f)"
   ]
  },
  {
   "cell_type": "code",
   "execution_count": 14,
   "id": "d831906b",
   "metadata": {},
   "outputs": [
    {
     "name": "stdout",
     "output_type": "stream",
     "text": [
      "Linear: R²=0.6599, MAE=95493.50\n",
      "Ridge: R²=0.7306, MAE=87318.79\n",
      "RandomForest: R²=0.7522, MAE=67119.99\n",
      "XGBoost: R²=0.6985, MAE=79889.94\n"
     ]
    }
   ],
   "source": [
    "from xgboost import XGBRegressor\n",
    "from sklearn.ensemble import RandomForestRegressor\n",
    "from sklearn.metrics import mean_absolute_error\n",
    "\n",
    "models = {\n",
    "    \"Linear\": LinearRegression(),\n",
    "    \"Ridge\": Ridge(alpha=1.0),\n",
    "    \"RandomForest\": RandomForestRegressor(n_estimators=200, random_state=42, n_jobs=-1),\n",
    "    \"XGBoost\": XGBRegressor(n_estimators=300, learning_rate=0.05, random_state=42, n_jobs=-1)\n",
    "}\n",
    "\n",
    "for name, model in models.items():\n",
    "    pipe = Pipeline(steps=[('pre', preprocessor), ('model', model)])\n",
    "    pipe.fit(X_train, y_train)\n",
    "    y_pred = pipe.predict(X_test)\n",
    "    mae = mean_absolute_error(y_test, y_pred)\n",
    "    r2 = r2_score(y_test, y_pred)\n",
    "    print(f\"{name}: R²={r2:.4f}, MAE={mae:.2f}\")\n"
   ]
  },
  {
   "cell_type": "code",
   "execution_count": 23,
   "id": "a0d74e5a",
   "metadata": {},
   "outputs": [
    {
     "name": "stdout",
     "output_type": "stream",
     "text": [
      "RandomForest: R²=0.7522, MAE=67119.99\n"
     ]
    }
   ],
   "source": [
    "rf = RandomForestRegressor(n_estimators=200, random_state=42, n_jobs=-1)\n",
    "pipe = Pipeline(steps=[('pre', preprocessor), ('model', rf)])\n",
    "pipe.fit(X_train, y_train)\n",
    "y_pred = pipe.predict(X_test)\n",
    "mae = mean_absolute_error(y_test, y_pred)\n",
    "r2 = r2_score(y_test, y_pred)\n",
    "print(f\"RandomForest: R²={r2:.4f}, MAE={mae:.2f}\")"
   ]
  },
  {
   "cell_type": "code",
   "execution_count": 24,
   "id": "73fb912c",
   "metadata": {},
   "outputs": [
    {
     "name": "stdout",
     "output_type": "stream",
     "text": [
      "Model pipeline saved successfully!\n"
     ]
    }
   ],
   "source": [
    "joblib.dump(pipe, \"../models/final_rf_pipeline.joblib\")\n",
    "\n",
    "print(\"Model pipeline saved successfully!\")"
   ]
  },
  {
   "cell_type": "markdown",
   "id": "2752d4d3",
   "metadata": {},
   "source": [
    "### Hyperparameter Tuning"
   ]
  },
  {
   "cell_type": "code",
   "execution_count": 15,
   "id": "3714888d",
   "metadata": {},
   "outputs": [
    {
     "name": "stdout",
     "output_type": "stream",
     "text": [
      "Fitting 3 folds for each of 30 candidates, totalling 90 fits\n"
     ]
    },
    {
     "name": "stderr",
     "output_type": "stream",
     "text": [
      "c:\\Users\\nayan\\anaconda3\\Lib\\site-packages\\sklearn\\model_selection\\_validation.py:528: FitFailedWarning: \n",
      "42 fits failed out of a total of 90.\n",
      "The score on these train-test partitions for these parameters will be set to nan.\n",
      "If these failures are not expected, you can try to debug them by setting error_score='raise'.\n",
      "\n",
      "Below are more details about the failures:\n",
      "--------------------------------------------------------------------------------\n",
      "29 fits failed with the following error:\n",
      "Traceback (most recent call last):\n",
      "  File \"c:\\Users\\nayan\\anaconda3\\Lib\\site-packages\\sklearn\\model_selection\\_validation.py\", line 866, in _fit_and_score\n",
      "    estimator.fit(X_train, y_train, **fit_params)\n",
      "    ~~~~~~~~~~~~~^^^^^^^^^^^^^^^^^^^^^^^^^^^^^^^^\n",
      "  File \"c:\\Users\\nayan\\anaconda3\\Lib\\site-packages\\sklearn\\base.py\", line 1382, in wrapper\n",
      "    estimator._validate_params()\n",
      "    ~~~~~~~~~~~~~~~~~~~~~~~~~~^^\n",
      "  File \"c:\\Users\\nayan\\anaconda3\\Lib\\site-packages\\sklearn\\base.py\", line 436, in _validate_params\n",
      "    validate_parameter_constraints(\n",
      "    ~~~~~~~~~~~~~~~~~~~~~~~~~~~~~~^\n",
      "        self._parameter_constraints,\n",
      "        ^^^^^^^^^^^^^^^^^^^^^^^^^^^^\n",
      "        self.get_params(deep=False),\n",
      "        ^^^^^^^^^^^^^^^^^^^^^^^^^^^^\n",
      "        caller_name=self.__class__.__name__,\n",
      "        ^^^^^^^^^^^^^^^^^^^^^^^^^^^^^^^^^^^^\n",
      "    )\n",
      "    ^\n",
      "  File \"c:\\Users\\nayan\\anaconda3\\Lib\\site-packages\\sklearn\\utils\\_param_validation.py\", line 98, in validate_parameter_constraints\n",
      "    raise InvalidParameterError(\n",
      "    ...<2 lines>...\n",
      "    )\n",
      "sklearn.utils._param_validation.InvalidParameterError: The 'max_features' parameter of RandomForestRegressor must be an int in the range [1, inf), a float in the range (0.0, 1.0], a str among {'log2', 'sqrt'} or None. Got 'auto' instead.\n",
      "\n",
      "--------------------------------------------------------------------------------\n",
      "13 fits failed with the following error:\n",
      "Traceback (most recent call last):\n",
      "  File \"c:\\Users\\nayan\\anaconda3\\Lib\\site-packages\\sklearn\\model_selection\\_validation.py\", line 866, in _fit_and_score\n",
      "    estimator.fit(X_train, y_train, **fit_params)\n",
      "    ~~~~~~~~~~~~~^^^^^^^^^^^^^^^^^^^^^^^^^^^^^^^^\n",
      "  File \"c:\\Users\\nayan\\anaconda3\\Lib\\site-packages\\sklearn\\base.py\", line 1382, in wrapper\n",
      "    estimator._validate_params()\n",
      "    ~~~~~~~~~~~~~~~~~~~~~~~~~~^^\n",
      "  File \"c:\\Users\\nayan\\anaconda3\\Lib\\site-packages\\sklearn\\base.py\", line 436, in _validate_params\n",
      "    validate_parameter_constraints(\n",
      "    ~~~~~~~~~~~~~~~~~~~~~~~~~~~~~~^\n",
      "        self._parameter_constraints,\n",
      "        ^^^^^^^^^^^^^^^^^^^^^^^^^^^^\n",
      "        self.get_params(deep=False),\n",
      "        ^^^^^^^^^^^^^^^^^^^^^^^^^^^^\n",
      "        caller_name=self.__class__.__name__,\n",
      "        ^^^^^^^^^^^^^^^^^^^^^^^^^^^^^^^^^^^^\n",
      "    )\n",
      "    ^\n",
      "  File \"c:\\Users\\nayan\\anaconda3\\Lib\\site-packages\\sklearn\\utils\\_param_validation.py\", line 98, in validate_parameter_constraints\n",
      "    raise InvalidParameterError(\n",
      "    ...<2 lines>...\n",
      "    )\n",
      "sklearn.utils._param_validation.InvalidParameterError: The 'max_features' parameter of RandomForestRegressor must be an int in the range [1, inf), a float in the range (0.0, 1.0], a str among {'sqrt', 'log2'} or None. Got 'auto' instead.\n",
      "\n",
      "  warnings.warn(some_fits_failed_message, FitFailedWarning)\n",
      "c:\\Users\\nayan\\anaconda3\\Lib\\site-packages\\sklearn\\model_selection\\_search.py:1108: UserWarning: One or more of the test scores are non-finite: [       nan        nan        nan 0.19158378        nan 0.26683291\n",
      " 0.35166976 0.15222442        nan 0.45352769 0.27735115 0.2736117\n",
      " 0.14711949 0.14539918        nan        nan 0.13364224        nan\n",
      "        nan 0.14780292        nan        nan 0.14786045 0.13364224\n",
      "        nan 0.2145667  0.14782653        nan        nan 0.44455426]\n",
      "  warnings.warn(\n"
     ]
    },
    {
     "name": "stdout",
     "output_type": "stream",
     "text": [
      "Best R²: 0.45352768624771206\n",
      "Best Parameters: {'n_estimators': 300, 'min_samples_split': 2, 'min_samples_leaf': 1, 'max_features': 'sqrt', 'max_depth': 30}\n"
     ]
    }
   ],
   "source": [
    "from sklearn.model_selection import RandomizedSearchCV\n",
    "from sklearn.ensemble import RandomForestRegressor\n",
    "import numpy as np\n",
    "\n",
    "param_dist = {\n",
    "    'n_estimators': [100, 200, 300, 500],\n",
    "    'max_depth': [10, 20, 30, None],\n",
    "    'min_samples_split': [2, 5, 10],\n",
    "    'min_samples_leaf': [1, 2, 4],\n",
    "    'max_features': ['auto', 'sqrt']\n",
    "}\n",
    "\n",
    "rf = RandomForestRegressor(random_state=42, n_jobs=-1)\n",
    "search = RandomizedSearchCV(rf, param_distributions=param_dist,\n",
    "                            n_iter=30, cv=3, scoring='r2', n_jobs=-1, verbose=2)\n",
    "search.fit(X_train_processed, y_train)\n",
    "\n",
    "print(\"Best R²:\", search.best_score_)\n",
    "print(\"Best Parameters:\", search.best_params_)\n",
    "\n"
   ]
  },
  {
   "cell_type": "code",
   "execution_count": 16,
   "id": "63a7fdb3",
   "metadata": {},
   "outputs": [
    {
     "name": "stdout",
     "output_type": "stream",
     "text": [
      "Final R²: 0.5540580582113859\n",
      "Final MAE: 119829.51470285235\n"
     ]
    }
   ],
   "source": [
    "from sklearn.ensemble import RandomForestRegressor\n",
    "\n",
    "# Initialize model with best parameters\n",
    "final_rf = RandomForestRegressor(\n",
    "    n_estimators=200,\n",
    "    min_samples_split=2,\n",
    "    min_samples_leaf=1,\n",
    "    max_features='sqrt',\n",
    "    max_depth=30,\n",
    "    random_state=42,\n",
    "    n_jobs=-1\n",
    ")\n",
    "            \n",
    "# Fit on the full training data\n",
    "final_rf.fit(X_train_processed, y_train)\n",
    "\n",
    "\n",
    "# Evaluate on test data\n",
    "y_pred = final_rf.predict(X_test_processed)\n",
    "\n",
    "from sklearn.metrics import mean_absolute_error, r2_score\n",
    "print(\"Final R²:\", r2_score(y_test, y_pred))\n",
    "print(\"Final MAE:\", mean_absolute_error(y_test, y_pred))\n"
   ]
  },
  {
   "cell_type": "code",
   "execution_count": 17,
   "id": "6bd2f456",
   "metadata": {},
   "outputs": [
    {
     "name": "stdout",
     "output_type": "stream",
     "text": [
      "Fitting 3 folds for each of 243 candidates, totalling 729 fits\n"
     ]
    },
    {
     "name": "stderr",
     "output_type": "stream",
     "text": [
      "c:\\Users\\nayan\\anaconda3\\Lib\\site-packages\\joblib\\externals\\loky\\process_executor.py:752: UserWarning: A worker stopped while some jobs were given to the executor. This can be caused by a too short worker timeout or by a memory leak.\n",
      "  warnings.warn(\n"
     ]
    },
    {
     "name": "stdout",
     "output_type": "stream",
     "text": [
      "{'colsample_bytree': 0.7, 'learning_rate': 0.1, 'max_depth': 4, 'n_estimators': 600, 'subsample': 0.9}\n"
     ]
    }
   ],
   "source": [
    "from xgboost import XGBRegressor\n",
    "from sklearn.model_selection import GridSearchCV\n",
    "\n",
    "xgb = XGBRegressor(random_state=42)\n",
    "params = {\n",
    "    'n_estimators': [200, 400, 600],\n",
    "    'learning_rate': [0.05, 0.1, 0.2],\n",
    "    'max_depth': [4, 6, 8],\n",
    "    'subsample': [0.7, 0.9, 1.0],\n",
    "    'colsample_bytree': [0.7, 0.9, 1.0]\n",
    "}\n",
    "grid = GridSearchCV(xgb, params, cv=3, scoring='r2', n_jobs=-1, verbose=2)\n",
    "grid.fit(X_train_processed, y_train)\n",
    "print(grid.best_params_)\n"
   ]
  },
  {
   "cell_type": "code",
   "execution_count": 18,
   "id": "bd6a6bcb",
   "metadata": {},
   "outputs": [
    {
     "name": "stdout",
     "output_type": "stream",
     "text": [
      "Final XGB R²: 0.7248391496901156\n",
      "Final XGB MAE: 71023.30736912493\n"
     ]
    }
   ],
   "source": [
    "final_xgb = XGBRegressor(\n",
    "    n_estimators=600,\n",
    "    learning_rate=0.1,\n",
    "    max_depth=4,\n",
    "    subsample=0.9,\n",
    "    colsample_bytree=0.7,\n",
    "    random_state=42,\n",
    "    n_jobs=-1\n",
    ")\n",
    "final_xgb.fit(X_train_processed, y_train)\n",
    "y_pred = final_xgb.predict(X_test_processed)\n",
    "print(\"Final XGB R²:\", r2_score(y_test, y_pred))\n",
    "print(\"Final XGB MAE:\", mean_absolute_error(y_test, y_pred))"
   ]
  },
  {
   "cell_type": "code",
   "execution_count": 26,
   "id": "c71de241",
   "metadata": {},
   "outputs": [
    {
     "name": "stdout",
     "output_type": "stream",
     "text": [
      "Model pipeline saved successfully!\n"
     ]
    }
   ],
   "source": [
    "from sklearn.pipeline import Pipeline\n",
    "\n",
    "xgb_pipeline = Pipeline(steps=[\n",
    "    ('preprocessor', preprocessor),\n",
    "    ('model', final_xgb)\n",
    "])\n",
    "xgb_pipeline.fit(X_train, y_train)\n",
    "import joblib\n",
    "\n",
    "joblib.dump(xgb_pipeline, \"../models/final_xgb_pipeline.joblib\")\n",
    "\n",
    "print(\"Model pipeline saved successfully!\")\n"
   ]
  },
  {
   "cell_type": "code",
   "execution_count": 20,
   "id": "28ca3004",
   "metadata": {},
   "outputs": [
    {
     "name": "stdout",
     "output_type": "stream",
     "text": [
      "Loaded model R²: 0.7248391496901156\n"
     ]
    }
   ],
   "source": [
    "# Load the saved pipeline\n",
    "loaded_xgb_pipeline = joblib.load(\"final_xgb_pipeline.joblib\")\n",
    "\n",
    "# Predict directly on raw data (no need to preprocess again!)\n",
    "y_pred = loaded_xgb_pipeline.predict(X_test)\n",
    "\n",
    "print(\"Loaded model R²:\", r2_score(y_test, y_pred))"
   ]
  },
  {
   "cell_type": "markdown",
   "id": "f2802abe",
   "metadata": {},
   "source": [
    "### Apply Cross Validation"
   ]
  },
  {
   "cell_type": "code",
   "execution_count": 21,
   "id": "aa1dac13",
   "metadata": {},
   "outputs": [
    {
     "name": "stdout",
     "output_type": "stream",
     "text": [
      "Cross-Validation R² Scores: [0.47204856 0.50711801 0.5188387  0.47257105 0.44429323]\n",
      "Average CV R²: 0.4830 ± 0.0268\n"
     ]
    }
   ],
   "source": [
    "from sklearn.model_selection import cross_val_score, KFold\n",
    "from sklearn.pipeline import Pipeline\n",
    "from sklearn.ensemble import RandomForestRegressor\n",
    "import numpy as np\n",
    "\n",
    "# Define model\n",
    "rf = RandomForestRegressor(\n",
    "    n_estimators=200,\n",
    "    min_samples_split=2,\n",
    "    min_samples_leaf=1,\n",
    "    max_features='sqrt',\n",
    "    max_depth=30,\n",
    "    random_state=42,\n",
    "    n_jobs=-1\n",
    ")\n",
    "\n",
    "# Combine preprocessing + model into a single pipeline\n",
    "pipe = Pipeline(steps=[\n",
    "    ('preprocessor', preprocessor),\n",
    "    ('model', rf)\n",
    "])\n",
    "\n",
    "# Define 5-fold cross-validation\n",
    "cv = KFold(n_splits=5, shuffle=True, random_state=42)\n",
    "\n",
    "# Perform cross-validation\n",
    "scores = cross_val_score(pipe, X_train, y_train, cv=cv, scoring='r2', n_jobs=-1)\n",
    "\n",
    "print(f\"Cross-Validation R² Scores: {scores}\")\n",
    "print(f\"Average CV R²: {np.mean(scores):.4f} ± {np.std(scores):.4f}\")\n"
   ]
  },
  {
   "cell_type": "code",
   "execution_count": 22,
   "id": "ce790f39",
   "metadata": {},
   "outputs": [
    {
     "name": "stdout",
     "output_type": "stream",
     "text": [
      "XGB Cross-Validation R² Scores: [0.66509094 0.71180956 0.75841421 0.74404613 0.61312833]\n",
      "Average XGB CV R²: 0.6985 ± 0.0534\n"
     ]
    }
   ],
   "source": [
    "final_xgb = XGBRegressor(\n",
    "    n_estimators=600,\n",
    "    learning_rate=0.1,\n",
    "    max_depth=4,\n",
    "    subsample=0.9,\n",
    "    colsample_bytree=0.7,\n",
    "    random_state=42,\n",
    "    n_jobs=-1\n",
    ")\n",
    "\n",
    "pipe = Pipeline(steps=[\n",
    "    ('preprocessor', preprocessor),\n",
    "    ('model', final_xgb)\n",
    "])\n",
    "\n",
    "cv = KFold(n_splits=5, shuffle=True, random_state=42)\n",
    "scores = cross_val_score(pipe, X_train, y_train, cv=cv, scoring='r2', n_jobs=-1)\n",
    "print(f\"XGB Cross-Validation R² Scores: {scores}\")\n",
    "print(f\"Average XGB CV R²: {np.mean(scores):.4f} ± {np.std(scores):.4f}\")"
   ]
  }
 ],
 "metadata": {
  "kernelspec": {
   "display_name": "base",
   "language": "python",
   "name": "python3"
  },
  "language_info": {
   "codemirror_mode": {
    "name": "ipython",
    "version": 3
   },
   "file_extension": ".py",
   "mimetype": "text/x-python",
   "name": "python",
   "nbconvert_exporter": "python",
   "pygments_lexer": "ipython3",
   "version": "3.13.5"
  }
 },
 "nbformat": 4,
 "nbformat_minor": 5
}
